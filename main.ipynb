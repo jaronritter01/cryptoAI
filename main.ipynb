{
 "cells": [
  {
   "cell_type": "code",
   "execution_count": 1,
   "metadata": {},
   "outputs": [],
   "source": [
    "### need to have all of these installed\n",
    "\n",
    "import numpy as np\n",
    "import matplotlib.pyplot as plt\n",
    "import pandas as pd\n",
    "from datetime import datetime\n",
    "from sklearn.preprocessing import MinMaxScaler\n",
    "import statistics as stat\n",
    "from collections import deque\n",
    "from tensorflow import keras "
   ]
  },
  {
   "cell_type": "code",
   "execution_count": 2,
   "metadata": {},
   "outputs": [
    {
     "name": "stdout",
     "output_type": "stream",
     "text": [
      "True\n",
      "stdev for low: 234.53257266811556\n",
      "stdev for high: 239.46852661620176\n",
      "stdev for open: 237.2054551051874\n",
      "stdev for close: 237.2025640950822\n",
      "stdev for volumn: 7003.560099198604\n",
      "number of open entries that are 0: 0\n",
      "number of close entries that are 0: 0\n",
      "number of high entries that are 0: 0\n",
      "number of low entries that are 0: 0\n",
      "number of volumn entries that are 0: 2442\n"
     ]
    }
   ],
   "source": [
    "### TODO: Determine what data is needed for our model\n",
    "\n",
    "\"\"\"\n",
    "if you need a certain value from the DataFrame use this notation\n",
    "    print(dataset_train.iloc[1].get(\"Unix Timestamp\"))\n",
    "\"\"\"\n",
    "\n",
    "\"\"\"\n",
    "To convert from these unix time stamps you need to convert to float then divide by 1000\n",
    "    timestampEx = dataset_train.iloc[0].get(\"Unix Timestamp\")\n",
    "    timestampEx = np.float64(timestampEx).item() / 1000\n",
    "    print(datetime.utcfromtimestamp(timestampEx).strftime(\"%D %H:%M\"))\n",
    "\"\"\"\n",
    "dataset_train = pd.read_csv(\"data/ETH_1H_MAR7_APR7.csv\")\n",
    "\n",
    "time_set = dataset_train.iloc[:, 0].values\n",
    "open_set = dataset_train.iloc[:, 3].values\n",
    "close_set = dataset_train.iloc[:, 6].values\n",
    "high_set = dataset_train.iloc[:, 4].values\n",
    "low_set = dataset_train.iloc[:, 5].values\n",
    "volumn_set = dataset_train.iloc[:, 7].values\n",
    "\n",
    "openZeroCount,closeZeroCount, highZeroCount, lowZeroCount, volumnZeroCount = 0, 0, 0, 0, 0\n",
    "\n",
    "### this means we aren't missing any records\n",
    "print(len(open_set) == len(close_set) == len(high_set) == len(low_set) == len(volumn_set))\n",
    "\n",
    "for i in range(len(open_set)):\n",
    "    if(open_set[i] == 0):\n",
    "        openZeroCount += 1 \n",
    "\n",
    "    if(close_set[i] == 0):\n",
    "        closeZeroCount += 1\n",
    "\n",
    "    if(high_set[i] == 0):\n",
    "        highZeroCount += 1\n",
    "\n",
    "    if(low_set[i] == 0):\n",
    "        lowZeroCount += 1\n",
    "    \n",
    "    if(volumn_set[i] == 0):\n",
    "        volumnZeroCount += 1\n",
    "\n",
    "stDevLow = stat.stdev(low_set)\n",
    "stDevHigh = stat.stdev(high_set)\n",
    "stDevOpen = stat.stdev(open_set)\n",
    "stDevClose = stat.stdev(close_set)\n",
    "stDevVolumn = stat.stdev(volumn_set)\n",
    "print(f\"stdev for low: {stDevLow}\")\n",
    "print(f\"stdev for high: {stDevHigh}\")\n",
    "print(f\"stdev for open: {stDevOpen}\")\n",
    "print(f\"stdev for close: {stDevClose}\")\n",
    "print(f\"stdev for volumn: {stDevVolumn}\")\n",
    "\n",
    "### taking this into account I don't think we can use volumn \n",
    "### we should replace these with the median value\n",
    "### upon inspection, the record that contains the 0 values is the last one\n",
    "### maybe we should just toss it out\n",
    "print(f\"number of open entries that are 0: {openZeroCount}\")\n",
    "print(f\"number of close entries that are 0: {closeZeroCount}\")\n",
    "print(f\"number of high entries that are 0: {highZeroCount}\")\n",
    "print(f\"number of low entries that are 0: {lowZeroCount}\")\n",
    "print(f\"number of volumn entries that are 0: {volumnZeroCount}\")\n",
    "\n"
   ]
  },
  {
   "cell_type": "code",
   "execution_count": null,
   "metadata": {},
   "outputs": [],
   "source": [
    "### ploting the data to determine if there is much noise\n",
    "### This data appears almost noiseless\n",
    "list = low_set.tolist()\n",
    "list.reverse()\n",
    "plt.title(\"Low scatter\")\n",
    "print(len(list))\n",
    "plt.scatter(range(34496), list, color=\"blue\")\n",
    "plt.show()\n",
    "\n",
    "list = high_set.tolist()\n",
    "list.reverse()\n",
    "plt.title(\"high scatter\")\n",
    "plt.scatter(range(34496), list, color=\"red\")\n",
    "plt.show()\n",
    "\n",
    "list = open_set.tolist()\n",
    "list.reverse()\n",
    "plt.title(\"open scatter\")\n",
    "plt.scatter(range(34496), list, color=\"green\")\n",
    "plt.show()\n",
    "\n",
    "list = close_set.tolist()\n",
    "list.reverse()\n",
    "plt.title(\"open scatter\")\n",
    "plt.scatter(range(34496), list, color=\"purple\")\n",
    "plt.show()"
   ]
  },
  {
   "cell_type": "code",
   "execution_count": 3,
   "metadata": {},
   "outputs": [],
   "source": [
    "###Input Calculation( training data)\n",
    "\n",
    "high_minus_low =[]\n",
    "close_minus_open=[]\n",
    "seven_day_MA =[]\n",
    "fourteen_day_MA =[]\n",
    "twentyone_day_MA =[]\n",
    "seven_day_std = []\n",
    "\n",
    "\n",
    "for i in range(34496):\n",
    "    point = i+1\n",
    "    high_minus_low.append(high_set[i] - low_set[i])\n",
    "    close_minus_open.append(abs(close_set[i] - open_set[i]))\n",
    "    if(i > 6):  \n",
    "        seven_day_MA.append((sum(close_set[i-6:point]))/7)\n",
    "        seven_day_std.append(stat.stdev(close_set[i-6:point]))\n",
    "    else:\n",
    "        seven_day_MA.append((sum(close_set[0:point])/point))\n",
    "        if(i != 0):\n",
    "            seven_day_std.append(stat.stdev(close_set[0:point]))\n",
    "        else:\n",
    "            seven_day_std.append(0)\n",
    "    if(i > 13):\n",
    "        fourteen_day_MA.append((sum(close_set[i-13:point])/14))\n",
    "    else:\n",
    "        fourteen_day_MA.append((sum(close_set[0:point])/point))\n",
    "    if(i > 20):\n",
    "        twentyone_day_MA.append((sum(close_set[i-20:point]))/21)\n",
    "    else:\n",
    "        twentyone_day_MA.append((sum(close_set[0:point])/point))\n",
    "\n",
    "file = open(\"data/feature_value.csv\" ,\"w\")\n",
    "file.write(\"High minus low,close minus high,seven day moving average,fourteen day moving average,twentyone day moving average,seven day standard deviation\\n\")\n",
    "for i in range(34496):\n",
    "    file.write(str(high_minus_low[i]) + \",\" + str(close_minus_open[i]) + \",\" + str(seven_day_MA[i]) + \",\" + str(fourteen_day_MA[i]) + \",\" + str(twentyone_day_MA[i]) + \",\" + str(seven_day_std[i]) +\"\\n\")\n",
    "\n",
    "file.close()\n",
    "\n"
   ]
  },
  {
   "cell_type": "code",
   "execution_count": 4,
   "metadata": {},
   "outputs": [],
   "source": [
    "### calculation for testing data\n",
    "high_minus_low =[]\n",
    "close_minus_open=[]\n",
    "seven_day_MA =[]\n",
    "fourteen_day_MA =[]\n",
    "twentyone_day_MA =[]\n",
    "seven_day_std = []\n",
    "\n",
    "for i in range(32064,34496):\n",
    "    point = i+1\n",
    "    high_minus_low.append(high_set[i] - low_set[i])\n",
    "    close_minus_open.append(abs(close_set[i] - open_set[i]))\n",
    "    if(i > 6):  \n",
    "        seven_day_MA.append((sum(close_set[i-6:point]))/7)\n",
    "        seven_day_std.append(stat.stdev(close_set[i-6:point]))\n",
    "    else:\n",
    "        seven_day_MA.append((sum(close_set[0:point])/point))\n",
    "        if(i != 0):\n",
    "            seven_day_std.append(stat.stdev(close_set[0:point]))\n",
    "        else:\n",
    "            seven_day_std.append(0)\n",
    "    if(i > 13):\n",
    "        fourteen_day_MA.append((sum(close_set[i-13:point])/14))\n",
    "    else:\n",
    "        fourteen_day_MA.append((sum(close_set[0:point])/point))\n",
    "    if(i > 20):\n",
    "        twentyone_day_MA.append((sum(close_set[i-20:point]))/21)\n",
    "    else:\n",
    "        twentyone_day_MA.append((sum(close_set[0:point])/point))\n",
    "\n",
    "file = open(\"data/testing_value.csv\" ,\"w\")\n",
    "file.write(\"High minus low,close minus high,seven day moving average,fourteen day moving average,twentyone day moving average,seven day standard deviation\\n\")\n",
    "for i in range(len(high_minus_low)):\n",
    "    file.write(str(high_minus_low[i]) + \",\" + str(close_minus_open[i]) + \",\" + str(seven_day_MA[i]) + \",\" + str(fourteen_day_MA[i]) + \",\" + str(twentyone_day_MA[i]) + \",\" + str(seven_day_std[i]) +\"\\n\")\n",
    "\n",
    "file.close()"
   ]
  },
  {
   "cell_type": "code",
   "execution_count": 5,
   "metadata": {},
   "outputs": [],
   "source": [
    "\n",
    "\n",
    "###Batch creation\n",
    "\n",
    "###training data\n",
    "dataset_train = pd.read_csv(\"data/feature_value.csv\")\n",
    "training_set = dataset_train.iloc[:, 0:6]\n",
    "\n",
    "sc = MinMaxScaler(feature_range = (0,1))\n",
    "train_set_scaled = sc.fit_transform(training_set)\n",
    "\n",
    "batch_train = []\n",
    "for i in range(34496):\n",
    "    for j in range(6):\n",
    "        batch_train.append(train_set_scaled[i,j])\n",
    "\n",
    "batch_train = np.array(batch_train)\n",
    "batch_train = np.reshape(batch_train, newshape = (1078,32,6))\n",
    "\n",
    "label_train = []\n",
    "for i in range(31, 34496,32):\n",
    "    label_train.append([close_set[i]])\n",
    "label_train = np.array(sc.fit_transform(label_train))\n",
    "\n",
    "###testing Data\n",
    "\n",
    "dataset_test = pd.read_csv(\"data/testing_value.csv\")\n",
    "testing_set = dataset_test.iloc[:, 0:6]\n",
    "sc = MinMaxScaler(feature_range = (0,1))\n",
    "#print(testing_set)\n",
    "test_set_scaled = sc.fit_transform(testing_set)\n",
    "\n",
    "batch_test = []\n",
    "for i in range(2432):\n",
    "    for j in range(6):\n",
    "        batch_test.append(test_set_scaled[i,j])\n",
    "\n",
    "batch_test = np.array(batch_test)\n",
    "batch_test = np.reshape(batch_test, newshape = (76,32,6))\n",
    "\n",
    "label_test = []\n",
    "for i in range(32064, 34496,32):\n",
    "    label_test.append([close_set[i]])\n",
    "label_test = np.array(sc.fit_transform(label_test))\n"
   ]
  },
  {
   "cell_type": "code",
   "execution_count": 6,
   "metadata": {},
   "outputs": [
    {
     "name": "stdout",
     "output_type": "stream",
     "text": [
      "1/1 [==============================] - 1s 913ms/step - loss: 0.0020 - accuracy: 0.0263\n",
      "test loss: 0.0020162046421319246\n",
      "test accuracy: 0.02631578966975212\n"
     ]
    }
   ],
   "source": [
    "### Model Creation trial 1.0\n",
    "### in this model the dropouts are added to prvent over fitting\n",
    "model = keras.Sequential()\n",
    "\n",
    "model.add(keras.layers.LSTM(units=50, return_sequences=True, input_shape=(32, 6)))\n",
    "#model.add(keras.layers.Dropout(0.2))\n",
    "model.add(keras.layers.LSTM(units=50, return_sequences=True))\n",
    "#model.add(keras.layers.Dropout(0.2))\n",
    "model.add(keras.layers.LSTM(units=50, return_sequences=True))\n",
    "#model.add(keras.layers.Dropout(0.2))\n",
    "model.add(keras.layers.LSTM(units=50))\n",
    "#model.add(keras.layers.Dropout(0.2))\n",
    "model.add(keras.layers.Dense(units=1))\n",
    "\n",
    "model.compile(optimizer=\"adam\", loss=\"mean_squared_error\",  metrics=[\"accuracy\"])\n",
    "\n",
    "model.fit(batch_train, label_train, batch_size=1078, epochs=250, verbose=0)\n",
    "\n",
    "test_loss, test_acc = model.evaluate(batch_test, label_test, batch_size=76)\n",
    "\n",
    "predictions = model.predict(batch_test, batch_size=76)\n",
    "\n",
    "print(f\"test loss: {test_loss}\")\n",
    "print(f\"test accuracy: {test_acc}\")\n",
    "\n"
   ]
  },
  {
   "cell_type": "code",
   "execution_count": 7,
   "metadata": {},
   "outputs": [
    {
     "data": {
      "image/png": "[encoded data removed]",
      "text/plain": [
       "<Figure size 432x288 with 1 Axes>"
      ]
     },
     "metadata": {
      "needs_background": "light"
     },
     "output_type": "display_data"
    }
   ],
   "source": [
    "### show the data\n",
    "x = [*range(76)]\n",
    "predict_y = [x[0] for x in predictions]\n",
    "true_y = [x[0] for x in label_test]\n",
    "\n",
    "plt.plot(x, predict_y, color=\"red\") ### predicted value\n",
    "plt.plot(x, true_y, color=\"blue\") ### actual value\n",
    "plt.show()"
   ]
  },
  {
   "cell_type": "code",
   "execution_count": 12,
   "metadata": {},
   "outputs": [
    {
     "name": "stdout",
     "output_type": "stream",
     "text": [
      "1/1 [==============================] - 1s 1s/step - loss: 0.0020 - accuracy: 0.0263\n",
      "test loss: 0.0019536707550287247\n",
      "test accuracy: 0.02631578966975212\n"
     ]
    }
   ],
   "source": [
    "### Model Creation trial 1.0\n",
    "### in this model the dropouts are added to prvent over fitting\n",
    "### NOTE: I had tried to use the Binary Crossentropy as a loss function but it was messing with the labels when I graphed \n",
    "### NOTE: The loss function did very little and doesn't matter too much\n",
    "model = keras.Sequential()\n",
    "\n",
    "model.add(keras.layers.LSTM(units=50, return_sequences=True, input_shape=(32, 6)))\n",
    "model.add(keras.layers.Dropout(0.2))\n",
    "model.add(keras.layers.LSTM(units=50, return_sequences=True))\n",
    "model.add(keras.layers.Dropout(0.2))\n",
    "model.add(keras.layers.LSTM(units=50, return_sequences=True))\n",
    "model.add(keras.layers.Dropout(0.2))\n",
    "model.add(keras.layers.LSTM(units=50))\n",
    "model.add(keras.layers.Dropout(0.2))\n",
    "model.add(keras.layers.Dense(units=1))\n",
    "\n",
    "model.compile(optimizer=\"adam\", loss=\"mean_squared_error\",  metrics=[\"accuracy\"])\n",
    "\n",
    "model.fit(batch_train, label_train, batch_size=1078, epochs=250, verbose=0)\n",
    "\n",
    "test_loss, test_acc = model.evaluate(batch_test, label_test, batch_size=76)\n",
    "\n",
    "predictions = model.predict(batch_test, batch_size=76)\n",
    "\n",
    "print(f\"test loss: {test_loss}\")\n",
    "print(f\"test accuracy: {test_acc}\")\n"
   ]
  },
  {
   "cell_type": "code",
   "execution_count": 13,
   "metadata": {},
   "outputs": [
    {
     "data": {
      "image/png": "[encoded data removed]",
      "text/plain": [
       "<Figure size 432x288 with 1 Axes>"
      ]
     },
     "metadata": {
      "needs_background": "light"
     },
     "output_type": "display_data"
    }
   ],
   "source": [
    "### show the data\n",
    "x = [*range(76)]\n",
    "predict_y = [x[0] for x in predictions]\n",
    "true_y = [x[0] for x in label_test]\n",
    "\n",
    "plt.plot(x, predict_y, color=\"red\") ### predicted value\n",
    "plt.plot(x, true_y, color=\"blue\") ### actual value\n",
    "plt.show()"
   ]
  },
  {
   "cell_type": "code",
   "execution_count": 14,
   "metadata": {},
   "outputs": [
    {
     "data": {
      "text/plain": [
       "<keras.callbacks.History at 0x19f96c690d0>"
      ]
     },
     "execution_count": 14,
     "metadata": {},
     "output_type": "execute_result"
    }
   ],
   "source": [
    "### model trial number 2.0\n",
    "model = keras.Sequential()\n",
    "model.add(keras.layers.LSTM(128, return_sequences=True, input_shape=(32, 6)))\n",
    "model.add(keras.layers.LSTM(64, return_sequences=False))\n",
    "model.add(keras.layers.Dense(16,activation='relu'))\n",
    "model.add(keras.layers.Dense(1,activation='linear'))\n",
    "\n",
    "model.compile(optimizer=\"adam\", loss=\"mean_squared_error\", metrics=[\"accuracy\"])\n",
    "### note test this with mean_squared as well\n",
    "model.fit(batch_train, label_train, batch_size=1078, epochs=250, verbose=0)"
   ]
  },
  {
   "cell_type": "code",
   "execution_count": 15,
   "metadata": {},
   "outputs": [
    {
     "name": "stdout",
     "output_type": "stream",
     "text": [
      "1/1 [==============================] - 1s 662ms/step - loss: 0.0041 - accuracy: 0.0263\n",
      "test loss: 0.004148601088672876\n",
      "test accuracy: 0.02631578966975212\n"
     ]
    }
   ],
   "source": [
    "### this is so you dont need to rerun the creation and training of the model every time\n",
    "test_loss, test_acc = model.evaluate(batch_test, label_test, batch_size=76)\n",
    "predictions = model.predict(batch_test, batch_size=76)\n",
    "print(f\"test loss: {test_loss}\")\n",
    "print(f\"test accuracy: {test_acc}\")\n",
    "#predictions = model.predict(batch_test, batch_size=76)"
   ]
  },
  {
   "cell_type": "code",
   "execution_count": 16,
   "metadata": {},
   "outputs": [
    {
     "data": {
      "image/png": "[encoded data removed]",
      "text/plain": [
       "<Figure size 432x288 with 1 Axes>"
      ]
     },
     "metadata": {
      "needs_background": "light"
     },
     "output_type": "display_data"
    }
   ],
   "source": [
    "x = [*range(76)]\n",
    "predict_y = [x[0] for x in predictions]\n",
    "true_y = [x[0] for x in label_test]\n",
    "\n",
    "plt.plot(x, predict_y, color=\"red\")\n",
    "plt.plot(x, true_y, color=\"blue\")\n",
    "plt.show()"
   ]
  },
  {
   "cell_type": "code",
   "execution_count": 17,
   "metadata": {},
   "outputs": [
    {
     "name": "stdout",
     "output_type": "stream",
     "text": [
      "WARNING:tensorflow:5 out of the last 5 calls to <function Model.make_test_function.<locals>.test_function at 0x0000019FFE0469D0> triggered tf.function retracing. Tracing is expensive and the excessive number of tracings could be due to (1) creating @tf.function repeatedly in a loop, (2) passing tensors with different shapes, (3) passing Python objects instead of tensors. For (1), please define your @tf.function outside of the loop. For (2), @tf.function has experimental_relax_shapes=True option that relaxes argument shapes that can avoid unnecessary retracing. For (3), please refer to https://www.tensorflow.org/guide/function#controlling_retracing and https://www.tensorflow.org/api_docs/python/tf/function for  more details.\n",
      "1/1 [==============================] - 0s 488ms/step - loss: 0.5621 - accuracy: 0.0263\n"
     ]
    }
   ],
   "source": [
    "### model trial number 2.1\n",
    "model = keras.Sequential()\n",
    "model.add(keras.layers.LSTM(128, return_sequences=True, input_shape=(32, 6)))\n",
    "model.add(keras.layers.LSTM(64, return_sequences=False))\n",
    "model.add(keras.layers.Dense(16,activation='relu'))\n",
    "model.add(keras.layers.Dense(1,activation='linear'))\n",
    "\n",
    "model.compile(optimizer=\"adam\", loss=keras.losses.BinaryCrossentropy(from_logits=True),  metrics=[\"accuracy\"])\n",
    "### note test this with mean_squared as well\n",
    "model.fit(batch_train, label_train, batch_size=1078, epochs=250, verbose=0)\n",
    "\n",
    "test_loss, test_acc = model.evaluate(batch_test, label_test, batch_size=76)"
   ]
  },
  {
   "cell_type": "code",
   "execution_count": 18,
   "metadata": {},
   "outputs": [
    {
     "data": {
      "image/png": "[encoded data removed]",
      "text/plain": [
       "<Figure size 432x288 with 1 Axes>"
      ]
     },
     "metadata": {
      "needs_background": "light"
     },
     "output_type": "display_data"
    }
   ],
   "source": [
    "x = [*range(76)]\n",
    "predict_y = [x[0] for x in predictions]\n",
    "true_y = [x[0] for x in label_test]\n",
    "\n",
    "plt.plot(x, predict_y, color=\"red\")\n",
    "plt.plot(x, true_y, color=\"blue\")\n",
    "plt.show()"
   ]
  }
 ],
 "metadata": {
  "interpreter": {
   "hash": "e5e10333970b299ecf590c2e440edda583c6081c64ad68905c68fd3dc5d81463"
  },
  "kernelspec": {
   "display_name": "Python 3.9.2 64-bit",
   "language": "python",
   "name": "python3"
  },
  "language_info": {
   "codemirror_mode": {
    "name": "ipython",
    "version": 3
   },
   "file_extension": ".py",
   "mimetype": "text/x-python",
   "name": "python",
   "nbconvert_exporter": "python",
   "pygments_lexer": "ipython3",
   "version": "3.9.2"
  },
  "orig_nbformat": 4
 },
 "nbformat": 4,
 "nbformat_minor": 2
}
